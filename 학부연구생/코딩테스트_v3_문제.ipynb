{
 "cells": [
  {
   "cell_type": "code",
   "execution_count": 31,
   "metadata": {
    "colab": {},
    "colab_type": "code",
    "id": "zpY51yLhJZUj"
   },
   "outputs": [
    {
     "name": "stdout",
     "output_type": "stream",
     "text": [
      "python 3.8.8 (default, Apr 13 2021, 15:08:03) [MSC v.1916 64 bit (AMD64)]\n",
      "numpy 1.20.1\n",
      "pandas 1.2.4\n",
      "matplotlib 3.3.4\n",
      "pandas 0.11.1\n"
     ]
    }
   ],
   "source": [
    "# 사용할 패키지를 import합니다\n",
    "import sys\n",
    "print('python', sys.version)\n",
    "\n",
    "import numpy as np\n",
    "print('numpy', np.__version__)\n",
    "\n",
    "import pandas as pd\n",
    "print('pandas', pd.__version__)\n",
    "\n",
    "import matplotlib as mpl\n",
    "print('matplotlib', mpl.__version__)\n",
    "\n",
    "import matplotlib.pyplot as plt\n",
    "\n",
    "import seaborn as sns\n",
    "print('pandas', sns.__version__)\n",
    "\n",
    "# 결과 확인을 용이하게 하기 위한 코드\n",
    "from IPython.core.interactiveshell import InteractiveShell\n",
    "InteractiveShell.ast_node_interactivity = 'all'\n",
    "\n",
    "# # 경고 메시지는 출력되지 않게 합니다.\n",
    "# import warnings\n",
    "# warnings.filterwarnings(\"ignore\")"
   ]
  },
  {
   "cell_type": "markdown",
   "metadata": {},
   "source": [
    "## 데이터로드"
   ]
  },
  {
   "cell_type": "code",
   "execution_count": 32,
   "metadata": {},
   "outputs": [
    {
     "data": {
      "text/html": [
       "<div>\n",
       "<style scoped>\n",
       "    .dataframe tbody tr th:only-of-type {\n",
       "        vertical-align: middle;\n",
       "    }\n",
       "\n",
       "    .dataframe tbody tr th {\n",
       "        vertical-align: top;\n",
       "    }\n",
       "\n",
       "    .dataframe thead th {\n",
       "        text-align: right;\n",
       "    }\n",
       "</style>\n",
       "<table border=\"1\" class=\"dataframe\">\n",
       "  <thead>\n",
       "    <tr style=\"text-align: right;\">\n",
       "      <th></th>\n",
       "      <th>subject_id</th>\n",
       "      <th>hadm_id</th>\n",
       "      <th>itemid</th>\n",
       "      <th>valuenum</th>\n",
       "      <th>valueuom</th>\n",
       "      <th>flag</th>\n",
       "    </tr>\n",
       "    <tr>\n",
       "      <th>row_id</th>\n",
       "      <th></th>\n",
       "      <th></th>\n",
       "      <th></th>\n",
       "      <th></th>\n",
       "      <th></th>\n",
       "      <th></th>\n",
       "    </tr>\n",
       "  </thead>\n",
       "  <tbody>\n",
       "    <tr>\n",
       "      <th>6245198</th>\n",
       "      <td>10006</td>\n",
       "      <td>142345.0</td>\n",
       "      <td>50813</td>\n",
       "      <td>4.40</td>\n",
       "      <td>mmol/L</td>\n",
       "      <td>abnormal</td>\n",
       "    </tr>\n",
       "    <tr>\n",
       "      <th>6245199</th>\n",
       "      <td>10006</td>\n",
       "      <td>142345.0</td>\n",
       "      <td>50861</td>\n",
       "      <td>9.00</td>\n",
       "      <td>IU/L</td>\n",
       "      <td>NaN</td>\n",
       "    </tr>\n",
       "    <tr>\n",
       "      <th>6245200</th>\n",
       "      <td>10006</td>\n",
       "      <td>142345.0</td>\n",
       "      <td>50862</td>\n",
       "      <td>3.40</td>\n",
       "      <td>g/dL</td>\n",
       "      <td>NaN</td>\n",
       "    </tr>\n",
       "    <tr>\n",
       "      <th>6245201</th>\n",
       "      <td>10006</td>\n",
       "      <td>142345.0</td>\n",
       "      <td>50863</td>\n",
       "      <td>167.00</td>\n",
       "      <td>IU/L</td>\n",
       "      <td>abnormal</td>\n",
       "    </tr>\n",
       "    <tr>\n",
       "      <th>6245202</th>\n",
       "      <td>10006</td>\n",
       "      <td>142345.0</td>\n",
       "      <td>50868</td>\n",
       "      <td>20.00</td>\n",
       "      <td>mEq/L</td>\n",
       "      <td>NaN</td>\n",
       "    </tr>\n",
       "    <tr>\n",
       "      <th>...</th>\n",
       "      <td>...</td>\n",
       "      <td>...</td>\n",
       "      <td>...</td>\n",
       "      <td>...</td>\n",
       "      <td>...</td>\n",
       "      <td>...</td>\n",
       "    </tr>\n",
       "    <tr>\n",
       "      <th>20452679</th>\n",
       "      <td>44228</td>\n",
       "      <td>103379.0</td>\n",
       "      <td>51250</td>\n",
       "      <td>88.00</td>\n",
       "      <td>fL</td>\n",
       "      <td>NaN</td>\n",
       "    </tr>\n",
       "    <tr>\n",
       "      <th>20452680</th>\n",
       "      <td>44228</td>\n",
       "      <td>103379.0</td>\n",
       "      <td>51265</td>\n",
       "      <td>595.00</td>\n",
       "      <td>K/uL</td>\n",
       "      <td>abnormal</td>\n",
       "    </tr>\n",
       "    <tr>\n",
       "      <th>20452681</th>\n",
       "      <td>44228</td>\n",
       "      <td>103379.0</td>\n",
       "      <td>51277</td>\n",
       "      <td>14.50</td>\n",
       "      <td>%</td>\n",
       "      <td>NaN</td>\n",
       "    </tr>\n",
       "    <tr>\n",
       "      <th>20452682</th>\n",
       "      <td>44228</td>\n",
       "      <td>103379.0</td>\n",
       "      <td>51279</td>\n",
       "      <td>2.76</td>\n",
       "      <td>m/uL</td>\n",
       "      <td>abnormal</td>\n",
       "    </tr>\n",
       "    <tr>\n",
       "      <th>20452683</th>\n",
       "      <td>44228</td>\n",
       "      <td>103379.0</td>\n",
       "      <td>51301</td>\n",
       "      <td>16.90</td>\n",
       "      <td>K/uL</td>\n",
       "      <td>abnormal</td>\n",
       "    </tr>\n",
       "  </tbody>\n",
       "</table>\n",
       "<p>61812 rows × 6 columns</p>\n",
       "</div>"
      ],
      "text/plain": [
       "          subject_id   hadm_id  itemid  valuenum valueuom      flag\n",
       "row_id                                                             \n",
       "6245198        10006  142345.0   50813      4.40   mmol/L  abnormal\n",
       "6245199        10006  142345.0   50861      9.00     IU/L       NaN\n",
       "6245200        10006  142345.0   50862      3.40     g/dL       NaN\n",
       "6245201        10006  142345.0   50863    167.00     IU/L  abnormal\n",
       "6245202        10006  142345.0   50868     20.00    mEq/L       NaN\n",
       "...              ...       ...     ...       ...      ...       ...\n",
       "20452679       44228  103379.0   51250     88.00       fL       NaN\n",
       "20452680       44228  103379.0   51265    595.00     K/uL  abnormal\n",
       "20452681       44228  103379.0   51277     14.50        %       NaN\n",
       "20452682       44228  103379.0   51279      2.76     m/uL  abnormal\n",
       "20452683       44228  103379.0   51301     16.90     K/uL  abnormal\n",
       "\n",
       "[61812 rows x 6 columns]"
      ]
     },
     "execution_count": 32,
     "metadata": {},
     "output_type": "execute_result"
    }
   ],
   "source": [
    "df1=pd.read_csv('LABEVENTS_small.csv', index_col=0)\n",
    "df1"
   ]
  },
  {
   "cell_type": "markdown",
   "metadata": {},
   "source": [
    "## 문제1"
   ]
  },
  {
   "cell_type": "code",
   "execution_count": 3,
   "metadata": {},
   "outputs": [
    {
     "data": {
      "text/html": [
       "<div>\n",
       "<style scoped>\n",
       "    .dataframe tbody tr th:only-of-type {\n",
       "        vertical-align: middle;\n",
       "    }\n",
       "\n",
       "    .dataframe tbody tr th {\n",
       "        vertical-align: top;\n",
       "    }\n",
       "\n",
       "    .dataframe thead th {\n",
       "        text-align: right;\n",
       "    }\n",
       "</style>\n",
       "<table border=\"1\" class=\"dataframe\">\n",
       "  <thead>\n",
       "    <tr style=\"text-align: right;\">\n",
       "      <th></th>\n",
       "      <th>subject_id</th>\n",
       "      <th>hadm_id</th>\n",
       "      <th>itemid</th>\n",
       "      <th>valuenum</th>\n",
       "      <th>valueuom</th>\n",
       "      <th>flag</th>\n",
       "    </tr>\n",
       "    <tr>\n",
       "      <th>row_id</th>\n",
       "      <th></th>\n",
       "      <th></th>\n",
       "      <th></th>\n",
       "      <th></th>\n",
       "      <th></th>\n",
       "      <th></th>\n",
       "    </tr>\n",
       "  </thead>\n",
       "  <tbody>\n",
       "    <tr>\n",
       "      <th>20452677</th>\n",
       "      <td>44228</td>\n",
       "      <td>103379.0</td>\n",
       "      <td>51248</td>\n",
       "      <td>30.20</td>\n",
       "      <td>pg</td>\n",
       "      <td>NaN</td>\n",
       "    </tr>\n",
       "    <tr>\n",
       "      <th>20452678</th>\n",
       "      <td>44228</td>\n",
       "      <td>103379.0</td>\n",
       "      <td>51249</td>\n",
       "      <td>34.40</td>\n",
       "      <td>%</td>\n",
       "      <td>NaN</td>\n",
       "    </tr>\n",
       "    <tr>\n",
       "      <th>20452679</th>\n",
       "      <td>44228</td>\n",
       "      <td>103379.0</td>\n",
       "      <td>51250</td>\n",
       "      <td>88.00</td>\n",
       "      <td>fL</td>\n",
       "      <td>NaN</td>\n",
       "    </tr>\n",
       "    <tr>\n",
       "      <th>20452680</th>\n",
       "      <td>44228</td>\n",
       "      <td>103379.0</td>\n",
       "      <td>51265</td>\n",
       "      <td>595.00</td>\n",
       "      <td>K/uL</td>\n",
       "      <td>abnormal</td>\n",
       "    </tr>\n",
       "    <tr>\n",
       "      <th>20452681</th>\n",
       "      <td>44228</td>\n",
       "      <td>103379.0</td>\n",
       "      <td>51277</td>\n",
       "      <td>14.50</td>\n",
       "      <td>%</td>\n",
       "      <td>NaN</td>\n",
       "    </tr>\n",
       "    <tr>\n",
       "      <th>20452682</th>\n",
       "      <td>44228</td>\n",
       "      <td>103379.0</td>\n",
       "      <td>51279</td>\n",
       "      <td>2.76</td>\n",
       "      <td>m/uL</td>\n",
       "      <td>abnormal</td>\n",
       "    </tr>\n",
       "    <tr>\n",
       "      <th>20452683</th>\n",
       "      <td>44228</td>\n",
       "      <td>103379.0</td>\n",
       "      <td>51301</td>\n",
       "      <td>16.90</td>\n",
       "      <td>K/uL</td>\n",
       "      <td>abnormal</td>\n",
       "    </tr>\n",
       "  </tbody>\n",
       "</table>\n",
       "</div>"
      ],
      "text/plain": [
       "          subject_id   hadm_id  itemid  valuenum valueuom      flag\n",
       "row_id                                                             \n",
       "20452677       44228  103379.0   51248     30.20       pg       NaN\n",
       "20452678       44228  103379.0   51249     34.40        %       NaN\n",
       "20452679       44228  103379.0   51250     88.00       fL       NaN\n",
       "20452680       44228  103379.0   51265    595.00     K/uL  abnormal\n",
       "20452681       44228  103379.0   51277     14.50        %       NaN\n",
       "20452682       44228  103379.0   51279      2.76     m/uL  abnormal\n",
       "20452683       44228  103379.0   51301     16.90     K/uL  abnormal"
      ]
     },
     "execution_count": 3,
     "metadata": {},
     "output_type": "execute_result"
    }
   ],
   "source": [
    "# df1의 맨 마지막 7줄을 출력하시오\n",
    "\n",
    "## === 코드 작성 == ##\n",
    "df1.tail(7)"
   ]
  },
  {
   "cell_type": "code",
   "execution_count": 3,
   "metadata": {},
   "outputs": [
    {
     "data": {
      "text/html": [
       "<div>\n",
       "<style scoped>\n",
       "    .dataframe tbody tr th:only-of-type {\n",
       "        vertical-align: middle;\n",
       "    }\n",
       "\n",
       "    .dataframe tbody tr th {\n",
       "        vertical-align: top;\n",
       "    }\n",
       "\n",
       "    .dataframe thead th {\n",
       "        text-align: right;\n",
       "    }\n",
       "</style>\n",
       "<table border=\"1\" class=\"dataframe\">\n",
       "  <thead>\n",
       "    <tr style=\"text-align: right;\">\n",
       "      <th></th>\n",
       "      <th>subject_id</th>\n",
       "      <th>hadm_id</th>\n",
       "      <th>itemid</th>\n",
       "      <th>valuenum</th>\n",
       "      <th>valueuom</th>\n",
       "      <th>flag</th>\n",
       "    </tr>\n",
       "    <tr>\n",
       "      <th>row_id</th>\n",
       "      <th></th>\n",
       "      <th></th>\n",
       "      <th></th>\n",
       "      <th></th>\n",
       "      <th></th>\n",
       "      <th></th>\n",
       "    </tr>\n",
       "  </thead>\n",
       "  <tbody>\n",
       "    <tr>\n",
       "      <th>20452677</th>\n",
       "      <td>44228</td>\n",
       "      <td>103379.0</td>\n",
       "      <td>51248</td>\n",
       "      <td>30.20</td>\n",
       "      <td>pg</td>\n",
       "      <td>NaN</td>\n",
       "    </tr>\n",
       "    <tr>\n",
       "      <th>20452678</th>\n",
       "      <td>44228</td>\n",
       "      <td>103379.0</td>\n",
       "      <td>51249</td>\n",
       "      <td>34.40</td>\n",
       "      <td>%</td>\n",
       "      <td>NaN</td>\n",
       "    </tr>\n",
       "    <tr>\n",
       "      <th>20452679</th>\n",
       "      <td>44228</td>\n",
       "      <td>103379.0</td>\n",
       "      <td>51250</td>\n",
       "      <td>88.00</td>\n",
       "      <td>fL</td>\n",
       "      <td>NaN</td>\n",
       "    </tr>\n",
       "    <tr>\n",
       "      <th>20452680</th>\n",
       "      <td>44228</td>\n",
       "      <td>103379.0</td>\n",
       "      <td>51265</td>\n",
       "      <td>595.00</td>\n",
       "      <td>K/uL</td>\n",
       "      <td>abnormal</td>\n",
       "    </tr>\n",
       "    <tr>\n",
       "      <th>20452681</th>\n",
       "      <td>44228</td>\n",
       "      <td>103379.0</td>\n",
       "      <td>51277</td>\n",
       "      <td>14.50</td>\n",
       "      <td>%</td>\n",
       "      <td>NaN</td>\n",
       "    </tr>\n",
       "    <tr>\n",
       "      <th>20452682</th>\n",
       "      <td>44228</td>\n",
       "      <td>103379.0</td>\n",
       "      <td>51279</td>\n",
       "      <td>2.76</td>\n",
       "      <td>m/uL</td>\n",
       "      <td>abnormal</td>\n",
       "    </tr>\n",
       "    <tr>\n",
       "      <th>20452683</th>\n",
       "      <td>44228</td>\n",
       "      <td>103379.0</td>\n",
       "      <td>51301</td>\n",
       "      <td>16.90</td>\n",
       "      <td>K/uL</td>\n",
       "      <td>abnormal</td>\n",
       "    </tr>\n",
       "  </tbody>\n",
       "</table>\n",
       "</div>"
      ],
      "text/plain": [
       "          subject_id   hadm_id  itemid  valuenum valueuom      flag\n",
       "row_id                                                             \n",
       "20452677       44228  103379.0   51248     30.20       pg       NaN\n",
       "20452678       44228  103379.0   51249     34.40        %       NaN\n",
       "20452679       44228  103379.0   51250     88.00       fL       NaN\n",
       "20452680       44228  103379.0   51265    595.00     K/uL  abnormal\n",
       "20452681       44228  103379.0   51277     14.50        %       NaN\n",
       "20452682       44228  103379.0   51279      2.76     m/uL  abnormal\n",
       "20452683       44228  103379.0   51301     16.90     K/uL  abnormal"
      ]
     },
     "execution_count": 3,
     "metadata": {},
     "output_type": "execute_result"
    }
   ],
   "source": [
    "## 결과"
   ]
  },
  {
   "cell_type": "markdown",
   "metadata": {},
   "source": [
    "## 문제2"
   ]
  },
  {
   "cell_type": "code",
   "execution_count": 7,
   "metadata": {},
   "outputs": [
    {
     "data": {
      "text/html": [
       "<div>\n",
       "<style scoped>\n",
       "    .dataframe tbody tr th:only-of-type {\n",
       "        vertical-align: middle;\n",
       "    }\n",
       "\n",
       "    .dataframe tbody tr th {\n",
       "        vertical-align: top;\n",
       "    }\n",
       "\n",
       "    .dataframe thead th {\n",
       "        text-align: right;\n",
       "    }\n",
       "</style>\n",
       "<table border=\"1\" class=\"dataframe\">\n",
       "  <thead>\n",
       "    <tr style=\"text-align: right;\">\n",
       "      <th></th>\n",
       "      <th>valuenum</th>\n",
       "      <th>valueuom</th>\n",
       "    </tr>\n",
       "    <tr>\n",
       "      <th>row_id</th>\n",
       "      <th></th>\n",
       "      <th></th>\n",
       "    </tr>\n",
       "  </thead>\n",
       "  <tbody>\n",
       "    <tr>\n",
       "      <th>6245198</th>\n",
       "      <td>4.40</td>\n",
       "      <td>mmol/L</td>\n",
       "    </tr>\n",
       "    <tr>\n",
       "      <th>6245199</th>\n",
       "      <td>9.00</td>\n",
       "      <td>IU/L</td>\n",
       "    </tr>\n",
       "    <tr>\n",
       "      <th>6245200</th>\n",
       "      <td>3.40</td>\n",
       "      <td>g/dL</td>\n",
       "    </tr>\n",
       "    <tr>\n",
       "      <th>6245201</th>\n",
       "      <td>167.00</td>\n",
       "      <td>IU/L</td>\n",
       "    </tr>\n",
       "    <tr>\n",
       "      <th>6245202</th>\n",
       "      <td>20.00</td>\n",
       "      <td>mEq/L</td>\n",
       "    </tr>\n",
       "    <tr>\n",
       "      <th>...</th>\n",
       "      <td>...</td>\n",
       "      <td>...</td>\n",
       "    </tr>\n",
       "    <tr>\n",
       "      <th>20452679</th>\n",
       "      <td>88.00</td>\n",
       "      <td>fL</td>\n",
       "    </tr>\n",
       "    <tr>\n",
       "      <th>20452680</th>\n",
       "      <td>595.00</td>\n",
       "      <td>K/uL</td>\n",
       "    </tr>\n",
       "    <tr>\n",
       "      <th>20452681</th>\n",
       "      <td>14.50</td>\n",
       "      <td>%</td>\n",
       "    </tr>\n",
       "    <tr>\n",
       "      <th>20452682</th>\n",
       "      <td>2.76</td>\n",
       "      <td>m/uL</td>\n",
       "    </tr>\n",
       "    <tr>\n",
       "      <th>20452683</th>\n",
       "      <td>16.90</td>\n",
       "      <td>K/uL</td>\n",
       "    </tr>\n",
       "  </tbody>\n",
       "</table>\n",
       "<p>61812 rows × 2 columns</p>\n",
       "</div>"
      ],
      "text/plain": [
       "          valuenum valueuom\n",
       "row_id                     \n",
       "6245198       4.40   mmol/L\n",
       "6245199       9.00     IU/L\n",
       "6245200       3.40     g/dL\n",
       "6245201     167.00     IU/L\n",
       "6245202      20.00    mEq/L\n",
       "...            ...      ...\n",
       "20452679     88.00       fL\n",
       "20452680    595.00     K/uL\n",
       "20452681     14.50        %\n",
       "20452682      2.76     m/uL\n",
       "20452683     16.90     K/uL\n",
       "\n",
       "[61812 rows x 2 columns]"
      ]
     },
     "execution_count": 7,
     "metadata": {},
     "output_type": "execute_result"
    }
   ],
   "source": [
    "# df1의 'valuenum'와 'valueuom' 컬럼만 가져오시오\n",
    "\n",
    "## === 코드 작성 == ##\n",
    "df1[['valuenum','valueuom']]"
   ]
  },
  {
   "cell_type": "code",
   "execution_count": 7,
   "metadata": {},
   "outputs": [
    {
     "data": {
      "text/html": [
       "<div>\n",
       "<style scoped>\n",
       "    .dataframe tbody tr th:only-of-type {\n",
       "        vertical-align: middle;\n",
       "    }\n",
       "\n",
       "    .dataframe tbody tr th {\n",
       "        vertical-align: top;\n",
       "    }\n",
       "\n",
       "    .dataframe thead th {\n",
       "        text-align: right;\n",
       "    }\n",
       "</style>\n",
       "<table border=\"1\" class=\"dataframe\">\n",
       "  <thead>\n",
       "    <tr style=\"text-align: right;\">\n",
       "      <th></th>\n",
       "      <th>valuenum</th>\n",
       "      <th>valueuom</th>\n",
       "    </tr>\n",
       "    <tr>\n",
       "      <th>row_id</th>\n",
       "      <th></th>\n",
       "      <th></th>\n",
       "    </tr>\n",
       "  </thead>\n",
       "  <tbody>\n",
       "    <tr>\n",
       "      <th>6245198</th>\n",
       "      <td>4.40</td>\n",
       "      <td>mmol/L</td>\n",
       "    </tr>\n",
       "    <tr>\n",
       "      <th>6245199</th>\n",
       "      <td>9.00</td>\n",
       "      <td>IU/L</td>\n",
       "    </tr>\n",
       "    <tr>\n",
       "      <th>6245200</th>\n",
       "      <td>3.40</td>\n",
       "      <td>g/dL</td>\n",
       "    </tr>\n",
       "    <tr>\n",
       "      <th>6245201</th>\n",
       "      <td>167.00</td>\n",
       "      <td>IU/L</td>\n",
       "    </tr>\n",
       "    <tr>\n",
       "      <th>6245202</th>\n",
       "      <td>20.00</td>\n",
       "      <td>mEq/L</td>\n",
       "    </tr>\n",
       "    <tr>\n",
       "      <th>...</th>\n",
       "      <td>...</td>\n",
       "      <td>...</td>\n",
       "    </tr>\n",
       "    <tr>\n",
       "      <th>20452679</th>\n",
       "      <td>88.00</td>\n",
       "      <td>fL</td>\n",
       "    </tr>\n",
       "    <tr>\n",
       "      <th>20452680</th>\n",
       "      <td>595.00</td>\n",
       "      <td>K/uL</td>\n",
       "    </tr>\n",
       "    <tr>\n",
       "      <th>20452681</th>\n",
       "      <td>14.50</td>\n",
       "      <td>%</td>\n",
       "    </tr>\n",
       "    <tr>\n",
       "      <th>20452682</th>\n",
       "      <td>2.76</td>\n",
       "      <td>m/uL</td>\n",
       "    </tr>\n",
       "    <tr>\n",
       "      <th>20452683</th>\n",
       "      <td>16.90</td>\n",
       "      <td>K/uL</td>\n",
       "    </tr>\n",
       "  </tbody>\n",
       "</table>\n",
       "<p>61812 rows × 2 columns</p>\n",
       "</div>"
      ],
      "text/plain": [
       "          valuenum valueuom\n",
       "row_id                     \n",
       "6245198       4.40   mmol/L\n",
       "6245199       9.00     IU/L\n",
       "6245200       3.40     g/dL\n",
       "6245201     167.00     IU/L\n",
       "6245202      20.00    mEq/L\n",
       "...            ...      ...\n",
       "20452679     88.00       fL\n",
       "20452680    595.00     K/uL\n",
       "20452681     14.50        %\n",
       "20452682      2.76     m/uL\n",
       "20452683     16.90     K/uL\n",
       "\n",
       "[61812 rows x 2 columns]"
      ]
     },
     "execution_count": 7,
     "metadata": {},
     "output_type": "execute_result"
    }
   ],
   "source": [
    "## 결과"
   ]
  },
  {
   "cell_type": "markdown",
   "metadata": {},
   "source": [
    "## 문제3"
   ]
  },
  {
   "cell_type": "code",
   "execution_count": 24,
   "metadata": {},
   "outputs": [
    {
     "data": {
      "text/html": [
       "<div>\n",
       "<style scoped>\n",
       "    .dataframe tbody tr th:only-of-type {\n",
       "        vertical-align: middle;\n",
       "    }\n",
       "\n",
       "    .dataframe tbody tr th {\n",
       "        vertical-align: top;\n",
       "    }\n",
       "\n",
       "    .dataframe thead th {\n",
       "        text-align: right;\n",
       "    }\n",
       "</style>\n",
       "<table border=\"1\" class=\"dataframe\">\n",
       "  <thead>\n",
       "    <tr style=\"text-align: right;\">\n",
       "      <th></th>\n",
       "      <th>subject_id</th>\n",
       "      <th>hadm_id</th>\n",
       "      <th>itemid</th>\n",
       "      <th>valuenum</th>\n",
       "      <th>valueuom</th>\n",
       "      <th>flag</th>\n",
       "    </tr>\n",
       "    <tr>\n",
       "      <th>row_id</th>\n",
       "      <th></th>\n",
       "      <th></th>\n",
       "      <th></th>\n",
       "      <th></th>\n",
       "      <th></th>\n",
       "      <th></th>\n",
       "    </tr>\n",
       "  </thead>\n",
       "  <tbody>\n",
       "    <tr>\n",
       "      <th>6245201</th>\n",
       "      <td>10006</td>\n",
       "      <td>142345.0</td>\n",
       "      <td>50863</td>\n",
       "      <td>167.0</td>\n",
       "      <td>IU/L</td>\n",
       "      <td>abnormal</td>\n",
       "    </tr>\n",
       "    <tr>\n",
       "      <th>6247417</th>\n",
       "      <td>10011</td>\n",
       "      <td>105331.0</td>\n",
       "      <td>50863</td>\n",
       "      <td>124.0</td>\n",
       "      <td>IU/L</td>\n",
       "      <td>abnormal</td>\n",
       "    </tr>\n",
       "    <tr>\n",
       "      <th>6247502</th>\n",
       "      <td>10011</td>\n",
       "      <td>105331.0</td>\n",
       "      <td>50863</td>\n",
       "      <td>141.0</td>\n",
       "      <td>IU/L</td>\n",
       "      <td>abnormal</td>\n",
       "    </tr>\n",
       "    <tr>\n",
       "      <th>6247739</th>\n",
       "      <td>10011</td>\n",
       "      <td>105331.0</td>\n",
       "      <td>50863</td>\n",
       "      <td>152.0</td>\n",
       "      <td>IU/L</td>\n",
       "      <td>abnormal</td>\n",
       "    </tr>\n",
       "    <tr>\n",
       "      <th>6247861</th>\n",
       "      <td>10011</td>\n",
       "      <td>105331.0</td>\n",
       "      <td>50863</td>\n",
       "      <td>192.0</td>\n",
       "      <td>IU/L</td>\n",
       "      <td>abnormal</td>\n",
       "    </tr>\n",
       "    <tr>\n",
       "      <th>...</th>\n",
       "      <td>...</td>\n",
       "      <td>...</td>\n",
       "      <td>...</td>\n",
       "      <td>...</td>\n",
       "      <td>...</td>\n",
       "      <td>...</td>\n",
       "    </tr>\n",
       "    <tr>\n",
       "      <th>20452451</th>\n",
       "      <td>44228</td>\n",
       "      <td>103379.0</td>\n",
       "      <td>50863</td>\n",
       "      <td>280.0</td>\n",
       "      <td>IU/L</td>\n",
       "      <td>abnormal</td>\n",
       "    </tr>\n",
       "    <tr>\n",
       "      <th>20452532</th>\n",
       "      <td>44228</td>\n",
       "      <td>103379.0</td>\n",
       "      <td>50863</td>\n",
       "      <td>251.0</td>\n",
       "      <td>IU/L</td>\n",
       "      <td>abnormal</td>\n",
       "    </tr>\n",
       "    <tr>\n",
       "      <th>20452560</th>\n",
       "      <td>44228</td>\n",
       "      <td>103379.0</td>\n",
       "      <td>50863</td>\n",
       "      <td>224.0</td>\n",
       "      <td>IU/L</td>\n",
       "      <td>abnormal</td>\n",
       "    </tr>\n",
       "    <tr>\n",
       "      <th>20452591</th>\n",
       "      <td>44228</td>\n",
       "      <td>103379.0</td>\n",
       "      <td>50863</td>\n",
       "      <td>185.0</td>\n",
       "      <td>IU/L</td>\n",
       "      <td>abnormal</td>\n",
       "    </tr>\n",
       "    <tr>\n",
       "      <th>20452617</th>\n",
       "      <td>44228</td>\n",
       "      <td>103379.0</td>\n",
       "      <td>50863</td>\n",
       "      <td>188.0</td>\n",
       "      <td>IU/L</td>\n",
       "      <td>abnormal</td>\n",
       "    </tr>\n",
       "  </tbody>\n",
       "</table>\n",
       "<p>488 rows × 6 columns</p>\n",
       "</div>"
      ],
      "text/plain": [
       "          subject_id   hadm_id  itemid  valuenum valueuom      flag\n",
       "row_id                                                             \n",
       "6245201        10006  142345.0   50863     167.0     IU/L  abnormal\n",
       "6247417        10011  105331.0   50863     124.0     IU/L  abnormal\n",
       "6247502        10011  105331.0   50863     141.0     IU/L  abnormal\n",
       "6247739        10011  105331.0   50863     152.0     IU/L  abnormal\n",
       "6247861        10011  105331.0   50863     192.0     IU/L  abnormal\n",
       "...              ...       ...     ...       ...      ...       ...\n",
       "20452451       44228  103379.0   50863     280.0     IU/L  abnormal\n",
       "20452532       44228  103379.0   50863     251.0     IU/L  abnormal\n",
       "20452560       44228  103379.0   50863     224.0     IU/L  abnormal\n",
       "20452591       44228  103379.0   50863     185.0     IU/L  abnormal\n",
       "20452617       44228  103379.0   50863     188.0     IU/L  abnormal\n",
       "\n",
       "[488 rows x 6 columns]"
      ]
     },
     "execution_count": 24,
     "metadata": {},
     "output_type": "execute_result"
    }
   ],
   "source": [
    "# df1의 'itemid'가 50863인 행들로만 이루어진 dataframe을 출력하시오 (50863이 정수 임에 주의)\n",
    "\n",
    "## === 코드 작성 == ##\n",
    "df1.loc[df1['itemid']==50863,:]\n"
   ]
  },
  {
   "cell_type": "code",
   "execution_count": 8,
   "metadata": {},
   "outputs": [
    {
     "data": {
      "text/html": [
       "<div>\n",
       "<style scoped>\n",
       "    .dataframe tbody tr th:only-of-type {\n",
       "        vertical-align: middle;\n",
       "    }\n",
       "\n",
       "    .dataframe tbody tr th {\n",
       "        vertical-align: top;\n",
       "    }\n",
       "\n",
       "    .dataframe thead th {\n",
       "        text-align: right;\n",
       "    }\n",
       "</style>\n",
       "<table border=\"1\" class=\"dataframe\">\n",
       "  <thead>\n",
       "    <tr style=\"text-align: right;\">\n",
       "      <th></th>\n",
       "      <th>subject_id</th>\n",
       "      <th>hadm_id</th>\n",
       "      <th>itemid</th>\n",
       "      <th>valuenum</th>\n",
       "      <th>valueuom</th>\n",
       "      <th>flag</th>\n",
       "    </tr>\n",
       "    <tr>\n",
       "      <th>row_id</th>\n",
       "      <th></th>\n",
       "      <th></th>\n",
       "      <th></th>\n",
       "      <th></th>\n",
       "      <th></th>\n",
       "      <th></th>\n",
       "    </tr>\n",
       "  </thead>\n",
       "  <tbody>\n",
       "    <tr>\n",
       "      <th>6245201</th>\n",
       "      <td>10006</td>\n",
       "      <td>142345.0</td>\n",
       "      <td>50863</td>\n",
       "      <td>167.0</td>\n",
       "      <td>IU/L</td>\n",
       "      <td>abnormal</td>\n",
       "    </tr>\n",
       "    <tr>\n",
       "      <th>6247417</th>\n",
       "      <td>10011</td>\n",
       "      <td>105331.0</td>\n",
       "      <td>50863</td>\n",
       "      <td>124.0</td>\n",
       "      <td>IU/L</td>\n",
       "      <td>abnormal</td>\n",
       "    </tr>\n",
       "    <tr>\n",
       "      <th>6247502</th>\n",
       "      <td>10011</td>\n",
       "      <td>105331.0</td>\n",
       "      <td>50863</td>\n",
       "      <td>141.0</td>\n",
       "      <td>IU/L</td>\n",
       "      <td>abnormal</td>\n",
       "    </tr>\n",
       "    <tr>\n",
       "      <th>6247739</th>\n",
       "      <td>10011</td>\n",
       "      <td>105331.0</td>\n",
       "      <td>50863</td>\n",
       "      <td>152.0</td>\n",
       "      <td>IU/L</td>\n",
       "      <td>abnormal</td>\n",
       "    </tr>\n",
       "    <tr>\n",
       "      <th>6247861</th>\n",
       "      <td>10011</td>\n",
       "      <td>105331.0</td>\n",
       "      <td>50863</td>\n",
       "      <td>192.0</td>\n",
       "      <td>IU/L</td>\n",
       "      <td>abnormal</td>\n",
       "    </tr>\n",
       "    <tr>\n",
       "      <th>...</th>\n",
       "      <td>...</td>\n",
       "      <td>...</td>\n",
       "      <td>...</td>\n",
       "      <td>...</td>\n",
       "      <td>...</td>\n",
       "      <td>...</td>\n",
       "    </tr>\n",
       "    <tr>\n",
       "      <th>20452451</th>\n",
       "      <td>44228</td>\n",
       "      <td>103379.0</td>\n",
       "      <td>50863</td>\n",
       "      <td>280.0</td>\n",
       "      <td>IU/L</td>\n",
       "      <td>abnormal</td>\n",
       "    </tr>\n",
       "    <tr>\n",
       "      <th>20452532</th>\n",
       "      <td>44228</td>\n",
       "      <td>103379.0</td>\n",
       "      <td>50863</td>\n",
       "      <td>251.0</td>\n",
       "      <td>IU/L</td>\n",
       "      <td>abnormal</td>\n",
       "    </tr>\n",
       "    <tr>\n",
       "      <th>20452560</th>\n",
       "      <td>44228</td>\n",
       "      <td>103379.0</td>\n",
       "      <td>50863</td>\n",
       "      <td>224.0</td>\n",
       "      <td>IU/L</td>\n",
       "      <td>abnormal</td>\n",
       "    </tr>\n",
       "    <tr>\n",
       "      <th>20452591</th>\n",
       "      <td>44228</td>\n",
       "      <td>103379.0</td>\n",
       "      <td>50863</td>\n",
       "      <td>185.0</td>\n",
       "      <td>IU/L</td>\n",
       "      <td>abnormal</td>\n",
       "    </tr>\n",
       "    <tr>\n",
       "      <th>20452617</th>\n",
       "      <td>44228</td>\n",
       "      <td>103379.0</td>\n",
       "      <td>50863</td>\n",
       "      <td>188.0</td>\n",
       "      <td>IU/L</td>\n",
       "      <td>abnormal</td>\n",
       "    </tr>\n",
       "  </tbody>\n",
       "</table>\n",
       "<p>488 rows × 6 columns</p>\n",
       "</div>"
      ],
      "text/plain": [
       "          subject_id   hadm_id  itemid  valuenum valueuom      flag\n",
       "row_id                                                             \n",
       "6245201        10006  142345.0   50863     167.0     IU/L  abnormal\n",
       "6247417        10011  105331.0   50863     124.0     IU/L  abnormal\n",
       "6247502        10011  105331.0   50863     141.0     IU/L  abnormal\n",
       "6247739        10011  105331.0   50863     152.0     IU/L  abnormal\n",
       "6247861        10011  105331.0   50863     192.0     IU/L  abnormal\n",
       "...              ...       ...     ...       ...      ...       ...\n",
       "20452451       44228  103379.0   50863     280.0     IU/L  abnormal\n",
       "20452532       44228  103379.0   50863     251.0     IU/L  abnormal\n",
       "20452560       44228  103379.0   50863     224.0     IU/L  abnormal\n",
       "20452591       44228  103379.0   50863     185.0     IU/L  abnormal\n",
       "20452617       44228  103379.0   50863     188.0     IU/L  abnormal\n",
       "\n",
       "[488 rows x 6 columns]"
      ]
     },
     "execution_count": 8,
     "metadata": {},
     "output_type": "execute_result"
    }
   ],
   "source": [
    "## 결과"
   ]
  },
  {
   "cell_type": "markdown",
   "metadata": {},
   "source": [
    "## 문제4"
   ]
  },
  {
   "cell_type": "code",
   "execution_count": 17,
   "metadata": {},
   "outputs": [
    {
     "data": {
      "text/plain": [
       "row_id\n",
       "6245218     50979\n",
       "6245221     51137\n",
       "6245226     51233\n",
       "6245229     51246\n",
       "6245241     51087\n",
       "            ...  \n",
       "20452515    51514\n",
       "20452516    51516\n",
       "20452517    51519\n",
       "20452528    50911\n",
       "20452599    50920\n",
       "Name: itemid, Length: 7327, dtype: int64"
      ]
     },
     "execution_count": 17,
     "metadata": {},
     "output_type": "execute_result"
    }
   ],
   "source": [
    "# df1의 'valuenum'이 nan인 행의 itemid를 구하시오\n",
    "\n",
    "## === 코드 작성 == ##\n",
    "df1[df1['valuenum'].isnull()].itemid"
   ]
  },
  {
   "cell_type": "code",
   "execution_count": 9,
   "metadata": {},
   "outputs": [
    {
     "data": {
      "text/plain": [
       "row_id\n",
       "6245218     50979\n",
       "6245221     51137\n",
       "6245226     51233\n",
       "6245229     51246\n",
       "6245241     51087\n",
       "            ...  \n",
       "20452515    51514\n",
       "20452516    51516\n",
       "20452517    51519\n",
       "20452528    50911\n",
       "20452599    50920\n",
       "Name: itemid, Length: 7327, dtype: int64"
      ]
     },
     "execution_count": 9,
     "metadata": {},
     "output_type": "execute_result"
    }
   ],
   "source": [
    "## 결과"
   ]
  },
  {
   "cell_type": "markdown",
   "metadata": {},
   "source": [
    "## 문제5"
   ]
  },
  {
   "cell_type": "code",
   "execution_count": 19,
   "metadata": {},
   "outputs": [
    {
     "data": {
      "text/plain": [
       "37458"
      ]
     },
     "execution_count": 19,
     "metadata": {},
     "output_type": "execute_result"
    }
   ],
   "source": [
    "# df1의 'flag' 컬럼의 nan의 개수를 구하시오\n",
    "\n",
    "## === 코드 작성 == ##\n",
    "df1['flag'].isnull().sum()"
   ]
  },
  {
   "cell_type": "code",
   "execution_count": 11,
   "metadata": {},
   "outputs": [
    {
     "data": {
      "text/plain": [
       "37458"
      ]
     },
     "execution_count": 11,
     "metadata": {},
     "output_type": "execute_result"
    }
   ],
   "source": [
    "## 결과"
   ]
  },
  {
   "cell_type": "code",
   "execution_count": 34,
   "metadata": {},
   "outputs": [
    {
     "data": {
      "text/plain": [
       "row_id\n",
       "6245198      True\n",
       "6245199     False\n",
       "6245200     False\n",
       "6245201      True\n",
       "6245202     False\n",
       "            ...  \n",
       "20452679    False\n",
       "20452680     True\n",
       "20452681    False\n",
       "20452682     True\n",
       "20452683     True\n",
       "Name: flag, Length: 61812, dtype: bool"
      ]
     },
     "execution_count": 34,
     "metadata": {},
     "output_type": "execute_result"
    }
   ],
   "source": [
    "df1['flag']=='abnormal'"
   ]
  },
  {
   "cell_type": "markdown",
   "metadata": {},
   "source": [
    "## 문제6"
   ]
  },
  {
   "cell_type": "code",
   "execution_count": 35,
   "metadata": {},
   "outputs": [
    {
     "ename": "MemoryError",
     "evalue": "Unable to allocate 809. MiB for an array with shape (61812, 1716) and data type float64",
     "output_type": "error",
     "traceback": [
      "\u001b[1;31m---------------------------------------------------------------------------\u001b[0m",
      "\u001b[1;31mMemoryError\u001b[0m                               Traceback (most recent call last)",
      "\u001b[1;32m<ipython-input-35-dced396b3433>\u001b[0m in \u001b[0;36m<module>\u001b[1;34m\u001b[0m\n\u001b[0;32m      6\u001b[0m \u001b[1;33m\u001b[0m\u001b[0m\n\u001b[0;32m      7\u001b[0m \u001b[0mA\u001b[0m\u001b[1;33m=\u001b[0m\u001b[0mdf1\u001b[0m\u001b[1;33m[\u001b[0m\u001b[1;34m'itemid'\u001b[0m\u001b[1;33m]\u001b[0m\u001b[1;33m==\u001b[0m\u001b[1;36m50882\u001b[0m\u001b[1;33m\u001b[0m\u001b[1;33m\u001b[0m\u001b[0m\n\u001b[1;32m----> 8\u001b[1;33m \u001b[0mB\u001b[0m\u001b[1;33m=\u001b[0m\u001b[0mdf1\u001b[0m\u001b[1;33m[\u001b[0m\u001b[1;33m(\u001b[0m\u001b[0mdf1\u001b[0m\u001b[1;33m[\u001b[0m\u001b[0mA\u001b[0m\u001b[1;33m]\u001b[0m\u001b[1;33m)\u001b[0m \u001b[1;33m&\u001b[0m \u001b[1;33m(\u001b[0m\u001b[0mdf1\u001b[0m\u001b[1;33m[\u001b[0m\u001b[1;34m'flag'\u001b[0m\u001b[1;33m]\u001b[0m\u001b[1;33m==\u001b[0m\u001b[1;34m'abnormal'\u001b[0m\u001b[1;33m)\u001b[0m\u001b[1;33m]\u001b[0m\u001b[1;33m\u001b[0m\u001b[1;33m\u001b[0m\u001b[0m\n\u001b[0m",
      "\u001b[1;32mC:\\Anaconda3\\lib\\site-packages\\pandas\\core\\ops\\common.py\u001b[0m in \u001b[0;36mnew_method\u001b[1;34m(self, other)\u001b[0m\n\u001b[0;32m     63\u001b[0m         \u001b[0mother\u001b[0m \u001b[1;33m=\u001b[0m \u001b[0mitem_from_zerodim\u001b[0m\u001b[1;33m(\u001b[0m\u001b[0mother\u001b[0m\u001b[1;33m)\u001b[0m\u001b[1;33m\u001b[0m\u001b[1;33m\u001b[0m\u001b[0m\n\u001b[0;32m     64\u001b[0m \u001b[1;33m\u001b[0m\u001b[0m\n\u001b[1;32m---> 65\u001b[1;33m         \u001b[1;32mreturn\u001b[0m \u001b[0mmethod\u001b[0m\u001b[1;33m(\u001b[0m\u001b[0mself\u001b[0m\u001b[1;33m,\u001b[0m \u001b[0mother\u001b[0m\u001b[1;33m)\u001b[0m\u001b[1;33m\u001b[0m\u001b[1;33m\u001b[0m\u001b[0m\n\u001b[0m\u001b[0;32m     66\u001b[0m \u001b[1;33m\u001b[0m\u001b[0m\n\u001b[0;32m     67\u001b[0m     \u001b[1;32mreturn\u001b[0m \u001b[0mnew_method\u001b[0m\u001b[1;33m\u001b[0m\u001b[1;33m\u001b[0m\u001b[0m\n",
      "\u001b[1;32mC:\\Anaconda3\\lib\\site-packages\\pandas\\core\\arraylike.py\u001b[0m in \u001b[0;36m__and__\u001b[1;34m(self, other)\u001b[0m\n\u001b[0;32m     57\u001b[0m     \u001b[1;33m@\u001b[0m\u001b[0munpack_zerodim_and_defer\u001b[0m\u001b[1;33m(\u001b[0m\u001b[1;34m\"__and__\"\u001b[0m\u001b[1;33m)\u001b[0m\u001b[1;33m\u001b[0m\u001b[1;33m\u001b[0m\u001b[0m\n\u001b[0;32m     58\u001b[0m     \u001b[1;32mdef\u001b[0m \u001b[0m__and__\u001b[0m\u001b[1;33m(\u001b[0m\u001b[0mself\u001b[0m\u001b[1;33m,\u001b[0m \u001b[0mother\u001b[0m\u001b[1;33m)\u001b[0m\u001b[1;33m:\u001b[0m\u001b[1;33m\u001b[0m\u001b[1;33m\u001b[0m\u001b[0m\n\u001b[1;32m---> 59\u001b[1;33m         \u001b[1;32mreturn\u001b[0m \u001b[0mself\u001b[0m\u001b[1;33m.\u001b[0m\u001b[0m_logical_method\u001b[0m\u001b[1;33m(\u001b[0m\u001b[0mother\u001b[0m\u001b[1;33m,\u001b[0m \u001b[0moperator\u001b[0m\u001b[1;33m.\u001b[0m\u001b[0mand_\u001b[0m\u001b[1;33m)\u001b[0m\u001b[1;33m\u001b[0m\u001b[1;33m\u001b[0m\u001b[0m\n\u001b[0m\u001b[0;32m     60\u001b[0m \u001b[1;33m\u001b[0m\u001b[0m\n\u001b[0;32m     61\u001b[0m     \u001b[1;33m@\u001b[0m\u001b[0munpack_zerodim_and_defer\u001b[0m\u001b[1;33m(\u001b[0m\u001b[1;34m\"__rand__\"\u001b[0m\u001b[1;33m)\u001b[0m\u001b[1;33m\u001b[0m\u001b[1;33m\u001b[0m\u001b[0m\n",
      "\u001b[1;32mC:\\Anaconda3\\lib\\site-packages\\pandas\\core\\frame.py\u001b[0m in \u001b[0;36m_arith_method\u001b[1;34m(self, other, op)\u001b[0m\n\u001b[0;32m   5978\u001b[0m         \u001b[0maxis\u001b[0m \u001b[1;33m=\u001b[0m \u001b[1;36m1\u001b[0m  \u001b[1;31m# only relevant for Series other case\u001b[0m\u001b[1;33m\u001b[0m\u001b[1;33m\u001b[0m\u001b[0m\n\u001b[0;32m   5979\u001b[0m \u001b[1;33m\u001b[0m\u001b[0m\n\u001b[1;32m-> 5980\u001b[1;33m         \u001b[0mself\u001b[0m\u001b[1;33m,\u001b[0m \u001b[0mother\u001b[0m \u001b[1;33m=\u001b[0m \u001b[0mops\u001b[0m\u001b[1;33m.\u001b[0m\u001b[0malign_method_FRAME\u001b[0m\u001b[1;33m(\u001b[0m\u001b[0mself\u001b[0m\u001b[1;33m,\u001b[0m \u001b[0mother\u001b[0m\u001b[1;33m,\u001b[0m \u001b[0maxis\u001b[0m\u001b[1;33m,\u001b[0m \u001b[0mflex\u001b[0m\u001b[1;33m=\u001b[0m\u001b[1;32mTrue\u001b[0m\u001b[1;33m,\u001b[0m \u001b[0mlevel\u001b[0m\u001b[1;33m=\u001b[0m\u001b[1;32mNone\u001b[0m\u001b[1;33m)\u001b[0m\u001b[1;33m\u001b[0m\u001b[1;33m\u001b[0m\u001b[0m\n\u001b[0m\u001b[0;32m   5981\u001b[0m \u001b[1;33m\u001b[0m\u001b[0m\n\u001b[0;32m   5982\u001b[0m         \u001b[0mnew_data\u001b[0m \u001b[1;33m=\u001b[0m \u001b[0mself\u001b[0m\u001b[1;33m.\u001b[0m\u001b[0m_dispatch_frame_op\u001b[0m\u001b[1;33m(\u001b[0m\u001b[0mother\u001b[0m\u001b[1;33m,\u001b[0m \u001b[0mop\u001b[0m\u001b[1;33m,\u001b[0m \u001b[0maxis\u001b[0m\u001b[1;33m=\u001b[0m\u001b[0maxis\u001b[0m\u001b[1;33m)\u001b[0m\u001b[1;33m\u001b[0m\u001b[1;33m\u001b[0m\u001b[0m\n",
      "\u001b[1;32mC:\\Anaconda3\\lib\\site-packages\\pandas\\core\\ops\\__init__.py\u001b[0m in \u001b[0;36malign_method_FRAME\u001b[1;34m(left, right, axis, flex, level)\u001b[0m\n\u001b[0;32m    285\u001b[0m                 )\n\u001b[0;32m    286\u001b[0m \u001b[1;33m\u001b[0m\u001b[0m\n\u001b[1;32m--> 287\u001b[1;33m         left, right = left.align(\n\u001b[0m\u001b[0;32m    288\u001b[0m             \u001b[0mright\u001b[0m\u001b[1;33m,\u001b[0m \u001b[0mjoin\u001b[0m\u001b[1;33m=\u001b[0m\u001b[1;34m\"outer\"\u001b[0m\u001b[1;33m,\u001b[0m \u001b[0maxis\u001b[0m\u001b[1;33m=\u001b[0m\u001b[0maxis\u001b[0m\u001b[1;33m,\u001b[0m \u001b[0mlevel\u001b[0m\u001b[1;33m=\u001b[0m\u001b[0mlevel\u001b[0m\u001b[1;33m,\u001b[0m \u001b[0mcopy\u001b[0m\u001b[1;33m=\u001b[0m\u001b[1;32mFalse\u001b[0m\u001b[1;33m\u001b[0m\u001b[1;33m\u001b[0m\u001b[0m\n\u001b[0;32m    289\u001b[0m         )\n",
      "\u001b[1;32mC:\\Anaconda3\\lib\\site-packages\\pandas\\core\\frame.py\u001b[0m in \u001b[0;36malign\u001b[1;34m(self, other, join, axis, level, copy, fill_value, method, limit, fill_axis, broadcast_axis)\u001b[0m\n\u001b[0;32m   4100\u001b[0m         \u001b[0mbroadcast_axis\u001b[0m\u001b[1;33m=\u001b[0m\u001b[1;32mNone\u001b[0m\u001b[1;33m,\u001b[0m\u001b[1;33m\u001b[0m\u001b[1;33m\u001b[0m\u001b[0m\n\u001b[0;32m   4101\u001b[0m     ) -> DataFrame:\n\u001b[1;32m-> 4102\u001b[1;33m         return super().align(\n\u001b[0m\u001b[0;32m   4103\u001b[0m             \u001b[0mother\u001b[0m\u001b[1;33m,\u001b[0m\u001b[1;33m\u001b[0m\u001b[1;33m\u001b[0m\u001b[0m\n\u001b[0;32m   4104\u001b[0m             \u001b[0mjoin\u001b[0m\u001b[1;33m=\u001b[0m\u001b[0mjoin\u001b[0m\u001b[1;33m,\u001b[0m\u001b[1;33m\u001b[0m\u001b[1;33m\u001b[0m\u001b[0m\n",
      "\u001b[1;32mC:\\Anaconda3\\lib\\site-packages\\pandas\\core\\generic.py\u001b[0m in \u001b[0;36malign\u001b[1;34m(self, other, join, axis, level, copy, fill_value, method, limit, fill_axis, broadcast_axis)\u001b[0m\n\u001b[0;32m   8823\u001b[0m             )\n\u001b[0;32m   8824\u001b[0m         \u001b[1;32melif\u001b[0m \u001b[0misinstance\u001b[0m\u001b[1;33m(\u001b[0m\u001b[0mother\u001b[0m\u001b[1;33m,\u001b[0m \u001b[0mABCSeries\u001b[0m\u001b[1;33m)\u001b[0m\u001b[1;33m:\u001b[0m\u001b[1;33m\u001b[0m\u001b[1;33m\u001b[0m\u001b[0m\n\u001b[1;32m-> 8825\u001b[1;33m             return self._align_series(\n\u001b[0m\u001b[0;32m   8826\u001b[0m                 \u001b[0mother\u001b[0m\u001b[1;33m,\u001b[0m\u001b[1;33m\u001b[0m\u001b[1;33m\u001b[0m\u001b[0m\n\u001b[0;32m   8827\u001b[0m                 \u001b[0mjoin\u001b[0m\u001b[1;33m=\u001b[0m\u001b[0mjoin\u001b[0m\u001b[1;33m,\u001b[0m\u001b[1;33m\u001b[0m\u001b[1;33m\u001b[0m\u001b[0m\n",
      "\u001b[1;32mC:\\Anaconda3\\lib\\site-packages\\pandas\\core\\generic.py\u001b[0m in \u001b[0;36m_align_series\u001b[1;34m(self, other, join, axis, level, copy, fill_value, method, limit, fill_axis)\u001b[0m\n\u001b[0;32m   8962\u001b[0m \u001b[1;33m\u001b[0m\u001b[0m\n\u001b[0;32m   8963\u001b[0m                 \u001b[1;32mif\u001b[0m \u001b[0mlidx\u001b[0m \u001b[1;32mis\u001b[0m \u001b[1;32mnot\u001b[0m \u001b[1;32mNone\u001b[0m\u001b[1;33m:\u001b[0m\u001b[1;33m\u001b[0m\u001b[1;33m\u001b[0m\u001b[0m\n\u001b[1;32m-> 8964\u001b[1;33m                     \u001b[0mfdata\u001b[0m \u001b[1;33m=\u001b[0m \u001b[0mfdata\u001b[0m\u001b[1;33m.\u001b[0m\u001b[0mreindex_indexer\u001b[0m\u001b[1;33m(\u001b[0m\u001b[0mjoin_index\u001b[0m\u001b[1;33m,\u001b[0m \u001b[0mlidx\u001b[0m\u001b[1;33m,\u001b[0m \u001b[0maxis\u001b[0m\u001b[1;33m=\u001b[0m\u001b[1;36m0\u001b[0m\u001b[1;33m)\u001b[0m\u001b[1;33m\u001b[0m\u001b[1;33m\u001b[0m\u001b[0m\n\u001b[0m\u001b[0;32m   8965\u001b[0m             \u001b[1;32melse\u001b[0m\u001b[1;33m:\u001b[0m\u001b[1;33m\u001b[0m\u001b[1;33m\u001b[0m\u001b[0m\n\u001b[0;32m   8966\u001b[0m                 \u001b[1;32mraise\u001b[0m \u001b[0mValueError\u001b[0m\u001b[1;33m(\u001b[0m\u001b[1;34m\"Must specify axis=0 or 1\"\u001b[0m\u001b[1;33m)\u001b[0m\u001b[1;33m\u001b[0m\u001b[1;33m\u001b[0m\u001b[0m\n",
      "\u001b[1;32mC:\\Anaconda3\\lib\\site-packages\\pandas\\core\\internals\\managers.py\u001b[0m in \u001b[0;36mreindex_indexer\u001b[1;34m(self, new_axis, indexer, axis, fill_value, allow_dups, copy, consolidate, only_slice)\u001b[0m\n\u001b[0;32m   1305\u001b[0m \u001b[1;33m\u001b[0m\u001b[0m\n\u001b[0;32m   1306\u001b[0m         \u001b[1;32mif\u001b[0m \u001b[0maxis\u001b[0m \u001b[1;33m==\u001b[0m \u001b[1;36m0\u001b[0m\u001b[1;33m:\u001b[0m\u001b[1;33m\u001b[0m\u001b[1;33m\u001b[0m\u001b[0m\n\u001b[1;32m-> 1307\u001b[1;33m             new_blocks = self._slice_take_blocks_ax0(\n\u001b[0m\u001b[0;32m   1308\u001b[0m                 \u001b[0mindexer\u001b[0m\u001b[1;33m,\u001b[0m \u001b[0mfill_value\u001b[0m\u001b[1;33m=\u001b[0m\u001b[0mfill_value\u001b[0m\u001b[1;33m,\u001b[0m \u001b[0monly_slice\u001b[0m\u001b[1;33m=\u001b[0m\u001b[0monly_slice\u001b[0m\u001b[1;33m\u001b[0m\u001b[1;33m\u001b[0m\u001b[0m\n\u001b[0;32m   1309\u001b[0m             )\n",
      "\u001b[1;32mC:\\Anaconda3\\lib\\site-packages\\pandas\\core\\internals\\managers.py\u001b[0m in \u001b[0;36m_slice_take_blocks_ax0\u001b[1;34m(self, slice_or_indexer, fill_value, only_slice)\u001b[0m\n\u001b[0;32m   1402\u001b[0m \u001b[1;33m\u001b[0m\u001b[0m\n\u001b[0;32m   1403\u001b[0m                 blocks.append(\n\u001b[1;32m-> 1404\u001b[1;33m                     \u001b[0mself\u001b[0m\u001b[1;33m.\u001b[0m\u001b[0m_make_na_block\u001b[0m\u001b[1;33m(\u001b[0m\u001b[0mplacement\u001b[0m\u001b[1;33m=\u001b[0m\u001b[0mmgr_locs\u001b[0m\u001b[1;33m,\u001b[0m \u001b[0mfill_value\u001b[0m\u001b[1;33m=\u001b[0m\u001b[0mfill_value\u001b[0m\u001b[1;33m)\u001b[0m\u001b[1;33m\u001b[0m\u001b[1;33m\u001b[0m\u001b[0m\n\u001b[0m\u001b[0;32m   1405\u001b[0m                 )\n\u001b[0;32m   1406\u001b[0m             \u001b[1;32melse\u001b[0m\u001b[1;33m:\u001b[0m\u001b[1;33m\u001b[0m\u001b[1;33m\u001b[0m\u001b[0m\n",
      "\u001b[1;32mC:\\Anaconda3\\lib\\site-packages\\pandas\\core\\internals\\managers.py\u001b[0m in \u001b[0;36m_make_na_block\u001b[1;34m(self, placement, fill_value)\u001b[0m\n\u001b[0;32m   1448\u001b[0m \u001b[1;33m\u001b[0m\u001b[0m\n\u001b[0;32m   1449\u001b[0m         \u001b[0mdtype\u001b[0m\u001b[1;33m,\u001b[0m \u001b[0mfill_value\u001b[0m \u001b[1;33m=\u001b[0m \u001b[0minfer_dtype_from_scalar\u001b[0m\u001b[1;33m(\u001b[0m\u001b[0mfill_value\u001b[0m\u001b[1;33m)\u001b[0m\u001b[1;33m\u001b[0m\u001b[1;33m\u001b[0m\u001b[0m\n\u001b[1;32m-> 1450\u001b[1;33m         \u001b[0mblock_values\u001b[0m \u001b[1;33m=\u001b[0m \u001b[0mnp\u001b[0m\u001b[1;33m.\u001b[0m\u001b[0mempty\u001b[0m\u001b[1;33m(\u001b[0m\u001b[0mblock_shape\u001b[0m\u001b[1;33m,\u001b[0m \u001b[0mdtype\u001b[0m\u001b[1;33m=\u001b[0m\u001b[0mdtype\u001b[0m\u001b[1;33m)\u001b[0m\u001b[1;33m\u001b[0m\u001b[1;33m\u001b[0m\u001b[0m\n\u001b[0m\u001b[0;32m   1451\u001b[0m         \u001b[0mblock_values\u001b[0m\u001b[1;33m.\u001b[0m\u001b[0mfill\u001b[0m\u001b[1;33m(\u001b[0m\u001b[0mfill_value\u001b[0m\u001b[1;33m)\u001b[0m\u001b[1;33m\u001b[0m\u001b[1;33m\u001b[0m\u001b[0m\n\u001b[0;32m   1452\u001b[0m         \u001b[1;32mreturn\u001b[0m \u001b[0mmake_block\u001b[0m\u001b[1;33m(\u001b[0m\u001b[0mblock_values\u001b[0m\u001b[1;33m,\u001b[0m \u001b[0mplacement\u001b[0m\u001b[1;33m=\u001b[0m\u001b[0mplacement\u001b[0m\u001b[1;33m,\u001b[0m \u001b[0mndim\u001b[0m\u001b[1;33m=\u001b[0m\u001b[0mblock_values\u001b[0m\u001b[1;33m.\u001b[0m\u001b[0mndim\u001b[0m\u001b[1;33m)\u001b[0m\u001b[1;33m\u001b[0m\u001b[1;33m\u001b[0m\u001b[0m\n",
      "\u001b[1;31mMemoryError\u001b[0m: Unable to allocate 809. MiB for an array with shape (61812, 1716) and data type float64"
     ]
    }
   ],
   "source": [
    "# df1의 'itemid' 컬럼이 50882 인 행들을 A, A 중 'flag'가 'abnormal'인 행들을 B라고 했을 때\n",
    "# B의 portion (B의 행수/A의 행수) 를 구하시오\n",
    "\n",
    "## === 코드 작성 == ##\n",
    "# df1.loc[df1['itemid']==50882,:]\n",
    "\n",
    "A=df1['itemid']==50882\n",
    "B=df1[(df1[A]) & (df1['flag']=='abnormal')]"
   ]
  },
  {
   "cell_type": "code",
   "execution_count": 17,
   "metadata": {},
   "outputs": [
    {
     "data": {
      "text/plain": [
       "0.31643356643356646"
      ]
     },
     "execution_count": 17,
     "metadata": {},
     "output_type": "execute_result"
    }
   ],
   "source": [
    "## 결과"
   ]
  },
  {
   "cell_type": "markdown",
   "metadata": {},
   "source": [
    "## 문제7"
   ]
  },
  {
   "cell_type": "code",
   "execution_count": null,
   "metadata": {},
   "outputs": [],
   "source": [
    "# 아래의 ax에 df1의 'itemid' 컬럼이 50882 인 행들의 'valuenum'값들을 boxplot으로 나타내시오\n",
    "# 그리고 x축의 값 13, 32에 빨간 redline을 그리시오 (힌트: axvline)\n",
    "\n",
    "fig=plt.figure(figsize=(10,5), dpi=100)\n",
    "ax=fig.subplots()\n",
    "\n",
    "## === 코드 작성 == ##\n"
   ]
  },
  {
   "cell_type": "code",
   "execution_count": 12,
   "metadata": {},
   "outputs": [
    {
     "data": {
      "image/png": "[encoded data removed]",
      "text/plain": [
       "<Figure size 1000x500 with 1 Axes>"
      ]
     },
     "metadata": {
      "needs_background": "light"
     },
     "output_type": "display_data"
    }
   ],
   "source": [
    "## 결과"
   ]
  },
  {
   "cell_type": "markdown",
   "metadata": {},
   "source": [
    "## 문제8"
   ]
  },
  {
   "cell_type": "code",
   "execution_count": 47,
   "metadata": {},
   "outputs": [
    {
     "data": {
      "text/plain": [
       "50971    1820\n",
       "51221    1800\n",
       "50983    1746\n",
       "50902    1723\n",
       "50882    1716\n",
       "Name: itemid, dtype: int64"
      ]
     },
     "execution_count": 47,
     "metadata": {},
     "output_type": "execute_result"
    },
    {
     "data": {
      "text/plain": [
       "row_id\n",
       "1      50800\n",
       "2      50801\n",
       "3      50802\n",
       "4      50803\n",
       "5      50804\n",
       "       ...  \n",
       "749    51551\n",
       "750    51552\n",
       "751    51553\n",
       "752    51554\n",
       "753    51555\n",
       "Name: itemid, Length: 753, dtype: int64"
      ]
     },
     "execution_count": 47,
     "metadata": {},
     "output_type": "execute_result"
    }
   ],
   "source": [
    "# 1) df1의 'itemid'중 가장 많이 등장한 id 다섯 개를 구하고\n",
    "# 2) D_LABITEMS.csv 파일을 읽은 후, 그 id들의 'label'을 나타내시오\n",
    "\n",
    "## === 코드 작성 == ##\n",
    "A=df1['itemid']\n",
    "B=A.value_counts().head(5)\n",
    "B\n",
    "df2=pd.read_csv('D_LABITEMS.csv', index_col=0)\n",
    "df2['itemid']"
   ]
  },
  {
   "cell_type": "code",
   "execution_count": 48,
   "metadata": {},
   "outputs": [
    {
     "data": {
      "text/plain": [
       "50971    1820\n",
       "51221    1800\n",
       "50983    1746\n",
       "50902    1723\n",
       "50882    1716\n",
       "Name: itemid, dtype: int64"
      ]
     },
     "execution_count": 48,
     "metadata": {},
     "output_type": "execute_result"
    },
    {
     "data": {
      "text/html": [
       "<div>\n",
       "<style scoped>\n",
       "    .dataframe tbody tr th:only-of-type {\n",
       "        vertical-align: middle;\n",
       "    }\n",
       "\n",
       "    .dataframe tbody tr th {\n",
       "        vertical-align: top;\n",
       "    }\n",
       "\n",
       "    .dataframe thead th {\n",
       "        text-align: right;\n",
       "    }\n",
       "</style>\n",
       "<table border=\"1\" class=\"dataframe\">\n",
       "  <thead>\n",
       "    <tr style=\"text-align: right;\">\n",
       "      <th></th>\n",
       "      <th>itemid</th>\n",
       "      <th>label</th>\n",
       "    </tr>\n",
       "  </thead>\n",
       "  <tbody>\n",
       "    <tr>\n",
       "      <th>82</th>\n",
       "      <td>50882</td>\n",
       "      <td>Bicarbonate</td>\n",
       "    </tr>\n",
       "    <tr>\n",
       "      <th>102</th>\n",
       "      <td>50902</td>\n",
       "      <td>Chloride</td>\n",
       "    </tr>\n",
       "    <tr>\n",
       "      <th>171</th>\n",
       "      <td>50971</td>\n",
       "      <td>Potassium</td>\n",
       "    </tr>\n",
       "    <tr>\n",
       "      <th>183</th>\n",
       "      <td>50983</td>\n",
       "      <td>Sodium</td>\n",
       "    </tr>\n",
       "    <tr>\n",
       "      <th>420</th>\n",
       "      <td>51221</td>\n",
       "      <td>Hematocrit</td>\n",
       "    </tr>\n",
       "  </tbody>\n",
       "</table>\n",
       "</div>"
      ],
      "text/plain": [
       "     itemid        label\n",
       "82    50882  Bicarbonate\n",
       "102   50902     Chloride\n",
       "171   50971    Potassium\n",
       "183   50983       Sodium\n",
       "420   51221   Hematocrit"
      ]
     },
     "execution_count": 48,
     "metadata": {},
     "output_type": "execute_result"
    }
   ],
   "source": [
    "## 결과"
   ]
  },
  {
   "cell_type": "markdown",
   "metadata": {},
   "source": [
    "## 문제9"
   ]
  },
  {
   "cell_type": "code",
   "execution_count": null,
   "metadata": {},
   "outputs": [],
   "source": [
    "# item 별로 valuenum의 최대값과 최소값의 차이를 구하시오\n",
    "# 그리고 그 중 최대값과 최소값의 차이가 nan이 아닌것만 골라서 출력하시오\n",
    "\n",
    "## === 코드 작성 == ##\n"
   ]
  },
  {
   "cell_type": "code",
   "execution_count": 18,
   "metadata": {},
   "outputs": [
    {
     "data": {
      "text/plain": [
       "itemid\n",
       "50800      NaN\n",
       "50801    507.0\n",
       "50802     49.0\n",
       "50803     22.0\n",
       "50804     47.0\n",
       "         ...  \n",
       "51517      NaN\n",
       "51518      NaN\n",
       "51519      NaN\n",
       "51523      NaN\n",
       "51537      NaN\n",
       "Name: valuenum, Length: 417, dtype: float64"
      ]
     },
     "execution_count": 18,
     "metadata": {},
     "output_type": "execute_result"
    },
    {
     "data": {
      "text/plain": [
       "itemid\n",
       "50801    507.000\n",
       "50802     49.000\n",
       "50803     22.000\n",
       "50804     47.000\n",
       "50805      3.000\n",
       "          ...   \n",
       "51498      0.046\n",
       "51501      0.000\n",
       "51507      0.000\n",
       "51514     11.800\n",
       "51516    567.000\n",
       "Name: valuenum, Length: 260, dtype: float64"
      ]
     },
     "execution_count": 18,
     "metadata": {},
     "output_type": "execute_result"
    }
   ],
   "source": [
    "## 결과"
   ]
  }
 ],
 "metadata": {
  "colab": {
   "collapsed_sections": [
    "9PNqs0q4JZU_",
    "kdeItDwvJZVE",
    "O0PFKeVrJZVG",
    "AReZC_8JJZVO",
    "y6kOVY3CJZVQ",
    "qhS9AqdkJZVT",
    "R5QxvdFJJZVc",
    "D6DhLjbeJZVq",
    "3FVFKFZyJZWF",
    "L-lOJGCAJZWK",
    "B1Y4qFSKJZWa",
    "Fnc_Oj1zJZWo",
    "1D9an7yBJZW-",
    "pbwSpueSJZXF",
    "vVBBZGaZJZXO",
    "HfEF2oEBJZXe"
   ],
   "name": "01-apt-price.ipynb",
   "provenance": []
  },
  "kernelspec": {
   "display_name": "Python 3",
   "language": "python",
   "name": "python3"
  },
  "toc": {
   "base_numbering": 1,
   "nav_menu": {},
   "number_sections": true,
   "sideBar": true,
   "skip_h1_title": false,
   "title_cell": "Table of Contents",
   "title_sidebar": "Contents",
   "toc_cell": false,
   "toc_position": {
    "height": "calc(100% - 180px)",
    "left": "10px",
    "top": "150px",
    "width": "211px"
   },
   "toc_section_display": true,
   "toc_window_display": true
  },
  "varInspector": {
   "cols": {
    "lenName": 16,
    "lenType": 16,
    "lenVar": 40
   },
   "kernels_config": {
    "python": {
     "delete_cmd_postfix": "",
     "delete_cmd_prefix": "del ",
     "library": "var_list.py",
     "varRefreshCmd": "print(var_dic_list())"
    },
    "r": {
     "delete_cmd_postfix": ") ",
     "delete_cmd_prefix": "rm(",
     "library": "var_list.r",
     "varRefreshCmd": "cat(var_dic_list()) "
    }
   },
   "position": {
    "height": "144.716px",
    "left": "1138.08px",
    "right": "20px",
    "top": "117.997px",
    "width": "350px"
   },
   "types_to_exclude": [
    "module",
    "function",
    "builtin_function_or_method",
    "instance",
    "_Feature"
   ],
   "window_display": false
  }
 },
 "nbformat": 4,
 "nbformat_minor": 1
}
